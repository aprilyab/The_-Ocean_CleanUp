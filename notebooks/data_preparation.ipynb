{
 "cells": [
  {
   "cell_type": "code",
   "execution_count": 82,
   "id": "ea186b07-3e18-4f61-9f14-14249277df08",
   "metadata": {},
   "outputs": [],
   "source": [
    "import warnings\n",
    "warnings.filterwarnings(\"ignore\")"
   ]
  },
  {
   "cell_type": "code",
   "execution_count": 90,
   "id": "45ce0518",
   "metadata": {},
   "outputs": [],
   "source": [
    "import pandas as pd\n",
    "import numpy as np"
   ]
  },
  {
   "cell_type": "markdown",
   "id": "3f3f64d4-d77f-4d06-89aa-c66cc5466112",
   "metadata": {},
   "source": [
    "loading the raw data"
   ]
  },
  {
   "cell_type": "code",
   "execution_count": 33,
   "id": "67d01220-0c6f-466f-85da-8ee6d66d80b8",
   "metadata": {},
   "outputs": [],
   "source": [
    "loaded_data=pd.read_csv(r\"C:\\Users\\user\\Desktop\\The_-Ocean_CleanUp\\data\\raw\\global_riverine_plastic_emissions_into_ocean.csv\")"
   ]
  },
  {
   "cell_type": "markdown",
   "id": "fbd8667e-56fc-44b0-b0f3-a36459a0606d",
   "metadata": {},
   "source": [
    "check the first 5 rows of data "
   ]
  },
  {
   "cell_type": "code",
   "execution_count": 34,
   "id": "1cecbd00-347e-4dca-934b-7e1b4004c244",
   "metadata": {},
   "outputs": [
    {
     "data": {
      "text/html": [
       "<div>\n",
       "<style scoped>\n",
       "    .dataframe tbody tr th:only-of-type {\n",
       "        vertical-align: middle;\n",
       "    }\n",
       "\n",
       "    .dataframe tbody tr th {\n",
       "        vertical-align: top;\n",
       "    }\n",
       "\n",
       "    .dataframe thead th {\n",
       "        text-align: right;\n",
       "    }\n",
       "</style>\n",
       "<table border=\"1\" class=\"dataframe\">\n",
       "  <thead>\n",
       "    <tr style=\"text-align: right;\">\n",
       "      <th></th>\n",
       "      <th>Country or Administrative area</th>\n",
       "      <th>Area [km2]</th>\n",
       "      <th>Coast length [km]</th>\n",
       "      <th>Rainfall [mm year -1]</th>\n",
       "      <th>Factor L/A [-]</th>\n",
       "      <th>Factor (L/A) *P [-]</th>\n",
       "      <th>P[E] [%]</th>\n",
       "      <th>MPW (metric tons year -1)</th>\n",
       "      <th>M[E] (metric tons year -1)</th>\n",
       "      <th>Ratio Me/MPW</th>\n",
       "      <th>Unnamed: 10</th>\n",
       "      <th>Unnamed: 11</th>\n",
       "      <th>Unnamed: 12</th>\n",
       "      <th>Unnamed: 13</th>\n",
       "    </tr>\n",
       "  </thead>\n",
       "  <tbody>\n",
       "    <tr>\n",
       "      <th>160</th>\n",
       "      <td>Venezuela</td>\n",
       "      <td>912'557</td>\n",
       "      <td>2'800</td>\n",
       "      <td>1'875</td>\n",
       "      <td>0.0030</td>\n",
       "      <td>6.0</td>\n",
       "      <td>0.39%</td>\n",
       "      <td>671'431</td>\n",
       "      <td>5'988</td>\n",
       "      <td>0.89%</td>\n",
       "      <td>NaN</td>\n",
       "      <td>NaN</td>\n",
       "      <td>NaN</td>\n",
       "      <td>NaN</td>\n",
       "    </tr>\n",
       "    <tr>\n",
       "      <th>161</th>\n",
       "      <td>Vietnam</td>\n",
       "      <td>327'732</td>\n",
       "      <td>3'444</td>\n",
       "      <td>1'772</td>\n",
       "      <td>0.0100</td>\n",
       "      <td>19.0</td>\n",
       "      <td>1.60%</td>\n",
       "      <td>1'112'790</td>\n",
       "      <td>28'221</td>\n",
       "      <td>2.54%</td>\n",
       "      <td>NaN</td>\n",
       "      <td>NaN</td>\n",
       "      <td>NaN</td>\n",
       "      <td>NaN</td>\n",
       "    </tr>\n",
       "    <tr>\n",
       "      <th>162</th>\n",
       "      <td>Western Sahara</td>\n",
       "      <td>266'830</td>\n",
       "      <td>111</td>\n",
       "      <td>35</td>\n",
       "      <td>0.0004</td>\n",
       "      <td>0.0</td>\n",
       "      <td>0.11%</td>\n",
       "      <td>4'114</td>\n",
       "      <td>38</td>\n",
       "      <td>0.91%</td>\n",
       "      <td>NaN</td>\n",
       "      <td>NaN</td>\n",
       "      <td>NaN</td>\n",
       "      <td>NaN</td>\n",
       "    </tr>\n",
       "    <tr>\n",
       "      <th>163</th>\n",
       "      <td>Yemen</td>\n",
       "      <td>419'900</td>\n",
       "      <td>1'906</td>\n",
       "      <td>112</td>\n",
       "      <td>0.0050</td>\n",
       "      <td>1.0</td>\n",
       "      <td>0.07%</td>\n",
       "      <td>291'737</td>\n",
       "      <td>252</td>\n",
       "      <td>0.09%</td>\n",
       "      <td>NaN</td>\n",
       "      <td>NaN</td>\n",
       "      <td>NaN</td>\n",
       "      <td>NaN</td>\n",
       "    </tr>\n",
       "    <tr>\n",
       "      <th>164</th>\n",
       "      <td>Zimbabwe</td>\n",
       "      <td>390'648</td>\n",
       "      <td>1'906</td>\n",
       "      <td>665</td>\n",
       "      <td>0.0050</td>\n",
       "      <td>3.0</td>\n",
       "      <td>0.00%</td>\n",
       "      <td>524'865</td>\n",
       "      <td>0</td>\n",
       "      <td>0.00%</td>\n",
       "      <td>NaN</td>\n",
       "      <td>NaN</td>\n",
       "      <td>NaN</td>\n",
       "      <td>NaN</td>\n",
       "    </tr>\n",
       "  </tbody>\n",
       "</table>\n",
       "</div>"
      ],
      "text/plain": [
       "    Country or Administrative area Area [km2] Coast length [km]  \\\n",
       "160                     Venezuela     912'557             2'800   \n",
       "161                       Vietnam     327'732             3'444   \n",
       "162                Western Sahara     266'830               111   \n",
       "163                          Yemen    419'900             1'906   \n",
       "164                       Zimbabwe    390'648             1'906   \n",
       "\n",
       "    Rainfall [mm year -1]  Factor L/A [-]  Factor (L/A) *P [-] P[E] [%]  \\\n",
       "160                 1'875          0.0030                  6.0    0.39%   \n",
       "161                 1'772          0.0100                 19.0    1.60%   \n",
       "162                    35          0.0004                  0.0    0.11%   \n",
       "163                   112          0.0050                  1.0    0.07%   \n",
       "164                   665          0.0050                  3.0    0.00%   \n",
       "\n",
       "    MPW (metric tons year -1) M[E] (metric tons year -1) Ratio Me/MPW  \\\n",
       "160                   671'431                      5'988        0.89%   \n",
       "161                 1'112'790                     28'221        2.54%   \n",
       "162                     4'114                         38        0.91%   \n",
       "163                   291'737                        252        0.09%   \n",
       "164                   524'865                          0        0.00%   \n",
       "\n",
       "     Unnamed: 10  Unnamed: 11  Unnamed: 12  Unnamed: 13  \n",
       "160          NaN          NaN          NaN          NaN  \n",
       "161          NaN          NaN          NaN          NaN  \n",
       "162          NaN          NaN          NaN          NaN  \n",
       "163          NaN          NaN          NaN          NaN  \n",
       "164          NaN          NaN          NaN          NaN  "
      ]
     },
     "execution_count": 34,
     "metadata": {},
     "output_type": "execute_result"
    }
   ],
   "source": [
    "loaded_data.tail()"
   ]
  },
  {
   "cell_type": "markdown",
   "id": "e21dc92e-69d7-48e8-9d73-f13d1bbdc5b0",
   "metadata": {},
   "source": [
    "identify the basic information of the data"
   ]
  },
  {
   "cell_type": "code",
   "execution_count": 35,
   "id": "7a89a5c2-57f5-4a4d-94e9-62c19b5d3eeb",
   "metadata": {},
   "outputs": [
    {
     "name": "stdout",
     "output_type": "stream",
     "text": [
      "<class 'pandas.core.frame.DataFrame'>\n",
      "RangeIndex: 165 entries, 0 to 164\n",
      "Data columns (total 14 columns):\n",
      " #   Column                          Non-Null Count  Dtype  \n",
      "---  ------                          --------------  -----  \n",
      " 0   Country or Administrative area  163 non-null    object \n",
      " 1   Area [km2]                      163 non-null    object \n",
      " 2   Coast length [km]               163 non-null    object \n",
      " 3   Rainfall [mm year -1]           163 non-null    object \n",
      " 4   Factor L/A [-]                  163 non-null    float64\n",
      " 5   Factor (L/A) *P [-]             163 non-null    float64\n",
      " 6   P[E] [%]                        163 non-null    object \n",
      " 7   MPW (metric tons year -1)       163 non-null    object \n",
      " 8   M[E] (metric tons year -1)      163 non-null    object \n",
      " 9   Ratio Me/MPW                    163 non-null    object \n",
      " 10  Unnamed: 10                     0 non-null      float64\n",
      " 11  Unnamed: 11                     0 non-null      float64\n",
      " 12  Unnamed: 12                     0 non-null      float64\n",
      " 13  Unnamed: 13                     0 non-null      float64\n",
      "dtypes: float64(6), object(8)\n",
      "memory usage: 18.2+ KB\n"
     ]
    }
   ],
   "source": [
    "loaded_data.info()"
   ]
  },
  {
   "cell_type": "code",
   "execution_count": 36,
   "id": "440e3338-db54-42e6-9a9e-170dc785e095",
   "metadata": {},
   "outputs": [
    {
     "data": {
      "text/plain": [
       "<bound method NDFrame.describe of     Country or Administrative area Area [km2] Coast length [km]  \\\n",
       "0                          Albania     28'486               362   \n",
       "1                          Algeria  2'316'559               998   \n",
       "2                           Angola  1'247'357             1'600   \n",
       "3              Antigua and Barbuda        443               153   \n",
       "4                        Argentina  2'779'705             4'989   \n",
       "..                             ...        ...               ...   \n",
       "160                     Venezuela     912'557             2'800   \n",
       "161                       Vietnam     327'732             3'444   \n",
       "162                Western Sahara     266'830               111   \n",
       "163                          Yemen    419'900             1'906   \n",
       "164                       Zimbabwe    390'648             1'906   \n",
       "\n",
       "    Rainfall [mm year -1]  Factor L/A [-]  Factor (L/A) *P [-] P[E] [%]  \\\n",
       "0                   1'117          0.0100                 14.0    1.56%   \n",
       "1                      80          0.0004                  0.0    0.09%   \n",
       "2                   1'025          0.0010                  1.0    0.09%   \n",
       "3                     996          0.3000                344.0    3.08%   \n",
       "4                     567          0.0020                  1.0    0.26%   \n",
       "..                    ...             ...                  ...      ...   \n",
       "160                 1'875          0.0030                  6.0    0.39%   \n",
       "161                 1'772          0.0100                 19.0    1.60%   \n",
       "162                    35          0.0004                  0.0    0.11%   \n",
       "163                   112          0.0050                  1.0    0.07%   \n",
       "164                   665          0.0050                  3.0    0.00%   \n",
       "\n",
       "    MPW (metric tons year -1) M[E] (metric tons year -1) Ratio Me/MPW  \\\n",
       "0                      69'833                      1'565        2.24%   \n",
       "1                     764'578                      5'774        0.76%   \n",
       "2                     236'946                        860        0.36%   \n",
       "3                         627                          2        0.29%   \n",
       "4                     465'808                      4'137        0.89%   \n",
       "..                        ...                        ...          ...   \n",
       "160                   671'431                      5'988        0.89%   \n",
       "161                 1'112'790                     28'221        2.54%   \n",
       "162                     4'114                         38        0.91%   \n",
       "163                   291'737                        252        0.09%   \n",
       "164                   524'865                          0        0.00%   \n",
       "\n",
       "     Unnamed: 10  Unnamed: 11  Unnamed: 12  Unnamed: 13  \n",
       "0            NaN          NaN          NaN          NaN  \n",
       "1            NaN          NaN          NaN          NaN  \n",
       "2            NaN          NaN          NaN          NaN  \n",
       "3            NaN          NaN          NaN          NaN  \n",
       "4            NaN          NaN          NaN          NaN  \n",
       "..           ...          ...          ...          ...  \n",
       "160          NaN          NaN          NaN          NaN  \n",
       "161          NaN          NaN          NaN          NaN  \n",
       "162          NaN          NaN          NaN          NaN  \n",
       "163          NaN          NaN          NaN          NaN  \n",
       "164          NaN          NaN          NaN          NaN  \n",
       "\n",
       "[165 rows x 14 columns]>"
      ]
     },
     "execution_count": 36,
     "metadata": {},
     "output_type": "execute_result"
    }
   ],
   "source": [
    "loaded_data.describe"
   ]
  },
  {
   "cell_type": "markdown",
   "id": "a8dd52f6-261c-402f-80ab-acff01139420",
   "metadata": {},
   "source": [
    "identify the datatype of each column"
   ]
  },
  {
   "cell_type": "code",
   "execution_count": 37,
   "id": "116dcb88-2d0e-4919-9fdc-1d599d127059",
   "metadata": {},
   "outputs": [
    {
     "data": {
      "text/html": [
       "<div>\n",
       "<style scoped>\n",
       "    .dataframe tbody tr th:only-of-type {\n",
       "        vertical-align: middle;\n",
       "    }\n",
       "\n",
       "    .dataframe tbody tr th {\n",
       "        vertical-align: top;\n",
       "    }\n",
       "\n",
       "    .dataframe thead th {\n",
       "        text-align: right;\n",
       "    }\n",
       "</style>\n",
       "<table border=\"1\" class=\"dataframe\">\n",
       "  <thead>\n",
       "    <tr style=\"text-align: right;\">\n",
       "      <th></th>\n",
       "      <th>Country or Administrative area</th>\n",
       "      <th>Area [km2]</th>\n",
       "      <th>Coast length [km]</th>\n",
       "      <th>Rainfall [mm year -1]</th>\n",
       "      <th>Factor L/A [-]</th>\n",
       "      <th>Factor (L/A) *P [-]</th>\n",
       "      <th>P[E] [%]</th>\n",
       "      <th>MPW (metric tons year -1)</th>\n",
       "      <th>M[E] (metric tons year -1)</th>\n",
       "      <th>Ratio Me/MPW</th>\n",
       "      <th>Unnamed: 10</th>\n",
       "      <th>Unnamed: 11</th>\n",
       "      <th>Unnamed: 12</th>\n",
       "      <th>Unnamed: 13</th>\n",
       "    </tr>\n",
       "  </thead>\n",
       "  <tbody>\n",
       "    <tr>\n",
       "      <th>160</th>\n",
       "      <td>Venezuela</td>\n",
       "      <td>912'557</td>\n",
       "      <td>2'800</td>\n",
       "      <td>1'875</td>\n",
       "      <td>0.0030</td>\n",
       "      <td>6.0</td>\n",
       "      <td>0.39%</td>\n",
       "      <td>671'431</td>\n",
       "      <td>5'988</td>\n",
       "      <td>0.89%</td>\n",
       "      <td>NaN</td>\n",
       "      <td>NaN</td>\n",
       "      <td>NaN</td>\n",
       "      <td>NaN</td>\n",
       "    </tr>\n",
       "    <tr>\n",
       "      <th>161</th>\n",
       "      <td>Vietnam</td>\n",
       "      <td>327'732</td>\n",
       "      <td>3'444</td>\n",
       "      <td>1'772</td>\n",
       "      <td>0.0100</td>\n",
       "      <td>19.0</td>\n",
       "      <td>1.60%</td>\n",
       "      <td>1'112'790</td>\n",
       "      <td>28'221</td>\n",
       "      <td>2.54%</td>\n",
       "      <td>NaN</td>\n",
       "      <td>NaN</td>\n",
       "      <td>NaN</td>\n",
       "      <td>NaN</td>\n",
       "    </tr>\n",
       "    <tr>\n",
       "      <th>162</th>\n",
       "      <td>Western Sahara</td>\n",
       "      <td>266'830</td>\n",
       "      <td>111</td>\n",
       "      <td>35</td>\n",
       "      <td>0.0004</td>\n",
       "      <td>0.0</td>\n",
       "      <td>0.11%</td>\n",
       "      <td>4'114</td>\n",
       "      <td>38</td>\n",
       "      <td>0.91%</td>\n",
       "      <td>NaN</td>\n",
       "      <td>NaN</td>\n",
       "      <td>NaN</td>\n",
       "      <td>NaN</td>\n",
       "    </tr>\n",
       "    <tr>\n",
       "      <th>163</th>\n",
       "      <td>Yemen</td>\n",
       "      <td>419'900</td>\n",
       "      <td>1'906</td>\n",
       "      <td>112</td>\n",
       "      <td>0.0050</td>\n",
       "      <td>1.0</td>\n",
       "      <td>0.07%</td>\n",
       "      <td>291'737</td>\n",
       "      <td>252</td>\n",
       "      <td>0.09%</td>\n",
       "      <td>NaN</td>\n",
       "      <td>NaN</td>\n",
       "      <td>NaN</td>\n",
       "      <td>NaN</td>\n",
       "    </tr>\n",
       "    <tr>\n",
       "      <th>164</th>\n",
       "      <td>Zimbabwe</td>\n",
       "      <td>390'648</td>\n",
       "      <td>1'906</td>\n",
       "      <td>665</td>\n",
       "      <td>0.0050</td>\n",
       "      <td>3.0</td>\n",
       "      <td>0.00%</td>\n",
       "      <td>524'865</td>\n",
       "      <td>0</td>\n",
       "      <td>0.00%</td>\n",
       "      <td>NaN</td>\n",
       "      <td>NaN</td>\n",
       "      <td>NaN</td>\n",
       "      <td>NaN</td>\n",
       "    </tr>\n",
       "  </tbody>\n",
       "</table>\n",
       "</div>"
      ],
      "text/plain": [
       "    Country or Administrative area Area [km2] Coast length [km]  \\\n",
       "160                     Venezuela     912'557             2'800   \n",
       "161                       Vietnam     327'732             3'444   \n",
       "162                Western Sahara     266'830               111   \n",
       "163                          Yemen    419'900             1'906   \n",
       "164                       Zimbabwe    390'648             1'906   \n",
       "\n",
       "    Rainfall [mm year -1]  Factor L/A [-]  Factor (L/A) *P [-] P[E] [%]  \\\n",
       "160                 1'875          0.0030                  6.0    0.39%   \n",
       "161                 1'772          0.0100                 19.0    1.60%   \n",
       "162                    35          0.0004                  0.0    0.11%   \n",
       "163                   112          0.0050                  1.0    0.07%   \n",
       "164                   665          0.0050                  3.0    0.00%   \n",
       "\n",
       "    MPW (metric tons year -1) M[E] (metric tons year -1) Ratio Me/MPW  \\\n",
       "160                   671'431                      5'988        0.89%   \n",
       "161                 1'112'790                     28'221        2.54%   \n",
       "162                     4'114                         38        0.91%   \n",
       "163                   291'737                        252        0.09%   \n",
       "164                   524'865                          0        0.00%   \n",
       "\n",
       "     Unnamed: 10  Unnamed: 11  Unnamed: 12  Unnamed: 13  \n",
       "160          NaN          NaN          NaN          NaN  \n",
       "161          NaN          NaN          NaN          NaN  \n",
       "162          NaN          NaN          NaN          NaN  \n",
       "163          NaN          NaN          NaN          NaN  \n",
       "164          NaN          NaN          NaN          NaN  "
      ]
     },
     "execution_count": 37,
     "metadata": {},
     "output_type": "execute_result"
    }
   ],
   "source": [
    "loaded_data.tail()"
   ]
  },
  {
   "cell_type": "code",
   "execution_count": 38,
   "id": "e141cd71-a1dc-4b6f-8426-4ab5689bf473",
   "metadata": {},
   "outputs": [
    {
     "name": "stdout",
     "output_type": "stream",
     "text": [
      "Country or Administrative area     object\n",
      "Area [km2]                         object\n",
      "Coast length [km]                  object\n",
      "Rainfall [mm year -1]              object\n",
      "Factor L/A [-]                    float64\n",
      "Factor (L/A) *P [-]               float64\n",
      "P[E] [%]                           object\n",
      "MPW (metric tons year -1)          object\n",
      "M[E] (metric tons year -1)         object\n",
      "Ratio Me/MPW                       object\n",
      "Unnamed: 10                       float64\n",
      "Unnamed: 11                       float64\n",
      "Unnamed: 12                       float64\n",
      "Unnamed: 13                       float64\n",
      "dtype: object\n"
     ]
    }
   ],
   "source": [
    "print(loaded_data.dtypes)"
   ]
  },
  {
   "cell_type": "raw",
   "id": "998245d2-321e-4493-a60d-6625af9b363a",
   "metadata": {},
   "source": [
    "removing rows with value of NaN or null or missing value"
   ]
  },
  {
   "cell_type": "code",
   "execution_count": 143,
   "id": "f42a0091-bab6-4854-8273-52380b2207d6",
   "metadata": {},
   "outputs": [],
   "source": [
    "loaded_data.dropna(axis=1,how=\"all\",inplace=True)\n"
   ]
  },
  {
   "cell_type": "code",
   "execution_count": 40,
   "id": "45fbd9e0-125e-45c4-bd7a-2f201f39100a",
   "metadata": {},
   "outputs": [
    {
     "data": {
      "text/html": [
       "<div>\n",
       "<style scoped>\n",
       "    .dataframe tbody tr th:only-of-type {\n",
       "        vertical-align: middle;\n",
       "    }\n",
       "\n",
       "    .dataframe tbody tr th {\n",
       "        vertical-align: top;\n",
       "    }\n",
       "\n",
       "    .dataframe thead th {\n",
       "        text-align: right;\n",
       "    }\n",
       "</style>\n",
       "<table border=\"1\" class=\"dataframe\">\n",
       "  <thead>\n",
       "    <tr style=\"text-align: right;\">\n",
       "      <th></th>\n",
       "      <th>Country or Administrative area</th>\n",
       "      <th>Area [km2]</th>\n",
       "      <th>Coast length [km]</th>\n",
       "      <th>Rainfall [mm year -1]</th>\n",
       "      <th>Factor L/A [-]</th>\n",
       "      <th>Factor (L/A) *P [-]</th>\n",
       "      <th>P[E] [%]</th>\n",
       "      <th>MPW (metric tons year -1)</th>\n",
       "      <th>M[E] (metric tons year -1)</th>\n",
       "      <th>Ratio Me/MPW</th>\n",
       "    </tr>\n",
       "  </thead>\n",
       "  <tbody>\n",
       "    <tr>\n",
       "      <th>0</th>\n",
       "      <td>Albania</td>\n",
       "      <td>28'486</td>\n",
       "      <td>362</td>\n",
       "      <td>1'117</td>\n",
       "      <td>0.0100</td>\n",
       "      <td>14.0</td>\n",
       "      <td>1.56%</td>\n",
       "      <td>69'833</td>\n",
       "      <td>1'565</td>\n",
       "      <td>2.24%</td>\n",
       "    </tr>\n",
       "    <tr>\n",
       "      <th>1</th>\n",
       "      <td>Algeria</td>\n",
       "      <td>2'316'559</td>\n",
       "      <td>998</td>\n",
       "      <td>80</td>\n",
       "      <td>0.0004</td>\n",
       "      <td>0.0</td>\n",
       "      <td>0.09%</td>\n",
       "      <td>764'578</td>\n",
       "      <td>5'774</td>\n",
       "      <td>0.76%</td>\n",
       "    </tr>\n",
       "    <tr>\n",
       "      <th>2</th>\n",
       "      <td>Angola</td>\n",
       "      <td>1'247'357</td>\n",
       "      <td>1'600</td>\n",
       "      <td>1'025</td>\n",
       "      <td>0.0010</td>\n",
       "      <td>1.0</td>\n",
       "      <td>0.09%</td>\n",
       "      <td>236'946</td>\n",
       "      <td>860</td>\n",
       "      <td>0.36%</td>\n",
       "    </tr>\n",
       "    <tr>\n",
       "      <th>3</th>\n",
       "      <td>Antigua and Barbuda</td>\n",
       "      <td>443</td>\n",
       "      <td>153</td>\n",
       "      <td>996</td>\n",
       "      <td>0.3000</td>\n",
       "      <td>344.0</td>\n",
       "      <td>3.08%</td>\n",
       "      <td>627</td>\n",
       "      <td>2</td>\n",
       "      <td>0.29%</td>\n",
       "    </tr>\n",
       "    <tr>\n",
       "      <th>4</th>\n",
       "      <td>Argentina</td>\n",
       "      <td>2'779'705</td>\n",
       "      <td>4'989</td>\n",
       "      <td>567</td>\n",
       "      <td>0.0020</td>\n",
       "      <td>1.0</td>\n",
       "      <td>0.26%</td>\n",
       "      <td>465'808</td>\n",
       "      <td>4'137</td>\n",
       "      <td>0.89%</td>\n",
       "    </tr>\n",
       "  </tbody>\n",
       "</table>\n",
       "</div>"
      ],
      "text/plain": [
       "  Country or Administrative area Area [km2] Coast length [km]  \\\n",
       "0                        Albania     28'486               362   \n",
       "1                        Algeria  2'316'559               998   \n",
       "2                         Angola  1'247'357             1'600   \n",
       "3            Antigua and Barbuda        443               153   \n",
       "4                      Argentina  2'779'705             4'989   \n",
       "\n",
       "  Rainfall [mm year -1]  Factor L/A [-]  Factor (L/A) *P [-] P[E] [%]  \\\n",
       "0                 1'117          0.0100                 14.0    1.56%   \n",
       "1                    80          0.0004                  0.0    0.09%   \n",
       "2                 1'025          0.0010                  1.0    0.09%   \n",
       "3                   996          0.3000                344.0    3.08%   \n",
       "4                   567          0.0020                  1.0    0.26%   \n",
       "\n",
       "  MPW (metric tons year -1) M[E] (metric tons year -1) Ratio Me/MPW  \n",
       "0                    69'833                      1'565        2.24%  \n",
       "1                   764'578                      5'774        0.76%  \n",
       "2                   236'946                        860        0.36%  \n",
       "3                       627                          2        0.29%  \n",
       "4                   465'808                      4'137        0.89%  "
      ]
     },
     "execution_count": 40,
     "metadata": {},
     "output_type": "execute_result"
    }
   ],
   "source": [
    "loaded_data.head()"
   ]
  },
  {
   "cell_type": "markdown",
   "id": "f1b68d8d-c4d8-4ea6-a7af-d58cbedcf14a",
   "metadata": {},
   "source": [
    "make the appropraite numeric value"
   ]
  },
  {
   "cell_type": "code",
   "execution_count": 144,
   "id": "6879a974-3dc3-434b-9ffa-cb0cfc7325a6",
   "metadata": {},
   "outputs": [],
   "source": [
    "# Step 1: Clean the column to remove any commas or apostrophes (optional but often needed)\n",
    "loaded_data[\"M[E] (metric tons year -1)\"] = (\n",
    "    loaded_data[\"M[E] (metric tons year -1)\"]\n",
    "    .astype(str)\n",
    "    .str.replace(\",\", \"\", regex=False)\n",
    "    .str.replace(\"'\", \"\", regex=False)\n",
    ")\n"
   ]
  },
  {
   "cell_type": "code",
   "execution_count": 145,
   "id": "e9e367d4-a3d0-47f0-93ea-79905521b045",
   "metadata": {},
   "outputs": [],
   "source": [
    "# Now convert to numeric (float), force errors to NaN\n",
    "loaded_data['M[E] (metric tons year -1)'] = pd.to_numeric(\n",
    "    loaded_data['M[E] (metric tons year -1)'], errors='coerce'\n",
    ")"
   ]
  },
  {
   "cell_type": "markdown",
   "id": "4af1d968-e5c7-4aaf-9ba6-6ff94923ae75",
   "metadata": {},
   "source": [
    "creating a new column with the name 'plastic_contribution' based on the value of \"MPW (metric tons year -1)\""
   ]
  },
  {
   "cell_type": "code",
   "execution_count": 146,
   "id": "141f886d-6aba-4ecc-af63-d0f702bd1480",
   "metadata": {},
   "outputs": [],
   "source": [
    "loaded_data['plastic_contribution'] = loaded_data['M[E] (metric tons year -1)'].apply(\n",
    "    lambda x: 0 if x > 6008 else 1\n",
    ")"
   ]
  },
  {
   "cell_type": "code",
   "execution_count": 147,
   "id": "70c48fea-e01e-4aad-a100-98e18debb398",
   "metadata": {},
   "outputs": [
    {
     "data": {
      "text/html": [
       "<div>\n",
       "<style scoped>\n",
       "    .dataframe tbody tr th:only-of-type {\n",
       "        vertical-align: middle;\n",
       "    }\n",
       "\n",
       "    .dataframe tbody tr th {\n",
       "        vertical-align: top;\n",
       "    }\n",
       "\n",
       "    .dataframe thead th {\n",
       "        text-align: right;\n",
       "    }\n",
       "</style>\n",
       "<table border=\"1\" class=\"dataframe\">\n",
       "  <thead>\n",
       "    <tr style=\"text-align: right;\">\n",
       "      <th></th>\n",
       "      <th>Country or Administrative area</th>\n",
       "      <th>Area [km2]</th>\n",
       "      <th>Coast length [km]</th>\n",
       "      <th>Rainfall [mm year -1]</th>\n",
       "      <th>Factor L/A [-]</th>\n",
       "      <th>Factor (L/A) *P [-]</th>\n",
       "      <th>P[E] [%]</th>\n",
       "      <th>MPW (metric tons year -1)</th>\n",
       "      <th>M[E] (metric tons year -1)</th>\n",
       "      <th>Ratio Me/MPW</th>\n",
       "      <th>plastic_contribution</th>\n",
       "    </tr>\n",
       "  </thead>\n",
       "  <tbody>\n",
       "    <tr>\n",
       "      <th>160</th>\n",
       "      <td>Venezuela</td>\n",
       "      <td>912'557</td>\n",
       "      <td>2'800</td>\n",
       "      <td>1'875</td>\n",
       "      <td>0.0030</td>\n",
       "      <td>6.0</td>\n",
       "      <td>0.39%</td>\n",
       "      <td>671'431</td>\n",
       "      <td>5988.0</td>\n",
       "      <td>0.89%</td>\n",
       "      <td>1</td>\n",
       "    </tr>\n",
       "    <tr>\n",
       "      <th>161</th>\n",
       "      <td>Vietnam</td>\n",
       "      <td>327'732</td>\n",
       "      <td>3'444</td>\n",
       "      <td>1'772</td>\n",
       "      <td>0.0100</td>\n",
       "      <td>19.0</td>\n",
       "      <td>1.60%</td>\n",
       "      <td>1'112'790</td>\n",
       "      <td>28221.0</td>\n",
       "      <td>2.54%</td>\n",
       "      <td>0</td>\n",
       "    </tr>\n",
       "    <tr>\n",
       "      <th>162</th>\n",
       "      <td>Western Sahara</td>\n",
       "      <td>266'830</td>\n",
       "      <td>111</td>\n",
       "      <td>35</td>\n",
       "      <td>0.0004</td>\n",
       "      <td>0.0</td>\n",
       "      <td>0.11%</td>\n",
       "      <td>4'114</td>\n",
       "      <td>38.0</td>\n",
       "      <td>0.91%</td>\n",
       "      <td>1</td>\n",
       "    </tr>\n",
       "    <tr>\n",
       "      <th>163</th>\n",
       "      <td>Yemen</td>\n",
       "      <td>419'900</td>\n",
       "      <td>1'906</td>\n",
       "      <td>112</td>\n",
       "      <td>0.0050</td>\n",
       "      <td>1.0</td>\n",
       "      <td>0.07%</td>\n",
       "      <td>291'737</td>\n",
       "      <td>252.0</td>\n",
       "      <td>0.09%</td>\n",
       "      <td>1</td>\n",
       "    </tr>\n",
       "    <tr>\n",
       "      <th>164</th>\n",
       "      <td>Zimbabwe</td>\n",
       "      <td>390'648</td>\n",
       "      <td>1'906</td>\n",
       "      <td>665</td>\n",
       "      <td>0.0050</td>\n",
       "      <td>3.0</td>\n",
       "      <td>0.00%</td>\n",
       "      <td>524'865</td>\n",
       "      <td>0.0</td>\n",
       "      <td>0.00%</td>\n",
       "      <td>1</td>\n",
       "    </tr>\n",
       "  </tbody>\n",
       "</table>\n",
       "</div>"
      ],
      "text/plain": [
       "    Country or Administrative area Area [km2] Coast length [km]  \\\n",
       "160                     Venezuela     912'557             2'800   \n",
       "161                       Vietnam     327'732             3'444   \n",
       "162                Western Sahara     266'830               111   \n",
       "163                          Yemen    419'900             1'906   \n",
       "164                       Zimbabwe    390'648             1'906   \n",
       "\n",
       "    Rainfall [mm year -1]  Factor L/A [-]  Factor (L/A) *P [-] P[E] [%]  \\\n",
       "160                 1'875          0.0030                  6.0    0.39%   \n",
       "161                 1'772          0.0100                 19.0    1.60%   \n",
       "162                    35          0.0004                  0.0    0.11%   \n",
       "163                   112          0.0050                  1.0    0.07%   \n",
       "164                   665          0.0050                  3.0    0.00%   \n",
       "\n",
       "    MPW (metric tons year -1)  M[E] (metric tons year -1) Ratio Me/MPW  \\\n",
       "160                   671'431                      5988.0        0.89%   \n",
       "161                 1'112'790                     28221.0        2.54%   \n",
       "162                     4'114                        38.0        0.91%   \n",
       "163                   291'737                       252.0        0.09%   \n",
       "164                   524'865                         0.0        0.00%   \n",
       "\n",
       "     plastic_contribution  \n",
       "160                     1  \n",
       "161                     0  \n",
       "162                     1  \n",
       "163                     1  \n",
       "164                     1  "
      ]
     },
     "execution_count": 147,
     "metadata": {},
     "output_type": "execute_result"
    }
   ],
   "source": [
    "loaded_data.tail()"
   ]
  },
  {
   "cell_type": "markdown",
   "id": "6a649007-8047-48bc-96ab-3f4cbb44c00c",
   "metadata": {},
   "source": [
    "## devided the dataset into target variabe and predictors"
   ]
  },
  {
   "cell_type": "code",
   "execution_count": 148,
   "id": "4d67ae32-df7a-4b7e-bd47-bd18d36ff375",
   "metadata": {},
   "outputs": [],
   "source": [
    "y=loaded_data['plastic_contribution']   #for target varible"
   ]
  },
  {
   "cell_type": "code",
   "execution_count": 149,
   "id": "3a05d6f2-c1e4-486a-9494-852a6484cfe8",
   "metadata": {},
   "outputs": [],
   "source": [
    "x=loaded_data.drop(inplace=False,axis=1,columns=['plastic_contribution','Country or Administrative area'])  # for predictor variables"
   ]
  },
  {
   "cell_type": "code",
   "execution_count": 150,
   "id": "2f33ec52-b2db-4680-beb0-a98282ac8c63",
   "metadata": {},
   "outputs": [],
   "source": [
    "# Clean all columns in x by removing commas and apostrophes\n",
    "x = x.apply(lambda col: col.astype(str).str.replace(\",\", \"\").str.replace(\"'\", \"\"))\n",
    "\n",
    "# Convert all columns to numeric (coerce errors to NaN)\n",
    "x = x.apply(pd.to_numeric, errors='coerce')"
   ]
  },
  {
   "cell_type": "markdown",
   "id": "b531f70b-825d-451b-8163-e05298d1ad77",
   "metadata": {},
   "source": [
    "## normalize the dataset"
   ]
  },
  {
   "cell_type": "code",
   "execution_count": 151,
   "id": "403ef117-bc40-45e9-b9e8-f7d9976dd9a6",
   "metadata": {},
   "outputs": [],
   "source": [
    "from sklearn.preprocessing import StandardScaler"
   ]
  },
  {
   "cell_type": "code",
   "execution_count": 152,
   "id": "4778fda6-e0a9-4e1a-8244-5e5b8903634f",
   "metadata": {},
   "outputs": [],
   "source": [
    "# create scaler object\n",
    "scale=StandardScaler()\n",
    "\n",
    "# fit the data and transform\n",
    "x_scaled=scale.fit_transform(x)"
   ]
  },
  {
   "cell_type": "code",
   "execution_count": 153,
   "id": "5fe88dd3-93b7-4ca3-b0ef-62479e9fcccc",
   "metadata": {},
   "outputs": [
    {
     "data": {
      "text/plain": [
       "array([[-0.34133711, -0.23105549, -0.14300905, ..., -0.21108758,\n",
       "        -0.14400758,         nan],\n",
       "       [ 0.77560196, -0.19388888, -1.38968064, ...,  0.2632892 ,\n",
       "        -0.00761347,         nan],\n",
       "       [ 0.25366342, -0.15870917, -0.25361058, ..., -0.09698165,\n",
       "        -0.16685335,         nan],\n",
       "       ...,\n",
       "       [-0.2249878 , -0.24572344, -1.44377922, ..., -0.25596098,\n",
       "        -0.19349055,         nan],\n",
       "       [-0.15026559, -0.14082712, -1.35121055, ..., -0.05956997,\n",
       "        -0.18655581,         nan],\n",
       "       [-0.16454516, -0.14082712, -0.68639917, ...,  0.09961147,\n",
       "        -0.19472195,         nan]])"
      ]
     },
     "execution_count": 153,
     "metadata": {},
     "output_type": "execute_result"
    }
   ],
   "source": [
    "x_scaled"
   ]
  },
  {
   "cell_type": "markdown",
   "id": "9617147a-a5e7-471b-a9cc-1d5238aa3b4a",
   "metadata": {},
   "source": [
    "## split the dataset to traning and testing dataset to train the ML model"
   ]
  },
  {
   "cell_type": "code",
   "execution_count": 154,
   "id": "162611a1-ef08-4475-a972-05dd504d31c1",
   "metadata": {},
   "outputs": [],
   "source": [
    "from sklearn.model_selection import train_test_split\n",
    "\n",
    "x_train, x_test, y_train, y_test = train_test_split(x_scaled, y, test_size=0.2, random_state=42)"
   ]
  },
  {
   "cell_type": "code",
   "execution_count": 155,
   "id": "1eebe57e-77cc-426a-aa29-2307ae392a42",
   "metadata": {
    "scrolled": true
   },
   "outputs": [],
   "source": [
    "x_train = np.nan_to_num(x_train)\n",
    "x_test = np.nan_to_num(x_test) "
   ]
  },
  {
   "cell_type": "markdown",
   "id": "e3f59936-8b8e-44af-a1b4-3e65039af1d9",
   "metadata": {},
   "source": [
    "## train  the ML model"
   ]
  },
  {
   "cell_type": "code",
   "execution_count": 156,
   "id": "02eab757-9c16-440c-9dff-8c2d1f2feccb",
   "metadata": {},
   "outputs": [],
   "source": [
    "\n",
    "\n",
    "#create LogisticRegression model\n",
    "model=LogisticRegression()\n",
    "\n",
    "# train the lr model with the training data\n",
    "model.fit(x_train,y_train)\n",
    "\n",
    "#get predict from the model using testing data\n",
    "y_predict=model.predict(x_test)"
   ]
  },
  {
   "cell_type": "markdown",
   "id": "c2e10a14-8afc-4a85-b6ec-b01e70176c70",
   "metadata": {},
   "source": [
    "## Evaluation of the model"
   ]
  },
  {
   "cell_type": "code",
   "execution_count": 157,
   "id": "ae2db8a5-e18c-4f8c-81a1-1bc5aaa49adc",
   "metadata": {},
   "outputs": [],
   "source": [
    "from sklearn.metrics import accuracy_score\n",
    "from sklearn.metrics import classification_report\n",
    "# evaluation using accuracy\n",
    "accuracy=accuracy_score(y_test,y_predict)\n",
    "\n",
    "# evaluation using precition,recall and F1\n",
    "report=classification_report(y_test,y_predict)"
   ]
  },
  {
   "cell_type": "code",
   "execution_count": 104,
   "id": "9b28bed7-18e7-439f-9244-0919f22fd134",
   "metadata": {},
   "outputs": [
    {
     "data": {
      "text/plain": [
       "0.9393939393939394"
      ]
     },
     "execution_count": 104,
     "metadata": {},
     "output_type": "execute_result"
    }
   ],
   "source": [
    "accuracy"
   ]
  },
  {
   "cell_type": "code",
   "execution_count": 106,
   "id": "704d833b-8095-4dcf-ac36-689b1c14418d",
   "metadata": {},
   "outputs": [
    {
     "data": {
      "text/plain": [
       "'              precision    recall  f1-score   support\\n\\n           0       1.00      0.50      0.67         4\\n           1       0.94      1.00      0.97        29\\n\\n    accuracy                           0.94        33\\n   macro avg       0.97      0.75      0.82        33\\nweighted avg       0.94      0.94      0.93        33\\n'"
      ]
     },
     "execution_count": 106,
     "metadata": {},
     "output_type": "execute_result"
    }
   ],
   "source": [
    "report"
   ]
  },
  {
   "cell_type": "code",
   "execution_count": 158,
   "id": "da8237d2-3211-41b9-9381-b5a249987eca",
   "metadata": {},
   "outputs": [
    {
     "name": "stdout",
     "output_type": "stream",
     "text": [
      "Accuracy: 0.9515151515151515\n",
      "Precision: 0.9503543499511242\n",
      "Recall: 1.0\n",
      "F1-score: 0.9740877842411422\n"
     ]
    }
   ],
   "source": [
    "from sklearn.pipeline import make_pipeline\n",
    "from sklearn.impute import SimpleImputer\n",
    "from sklearn.model_selection import cross_validate\n",
    "\n",
    "\n",
    "pipeline = make_pipeline(\n",
    "    SimpleImputer(strategy='mean'),  # Fill missing values with mean\n",
    "    StandardScaler(),                 # Scale features\n",
    "    LogisticRegression()             # Logistic Regression model\n",
    ")\n",
    "scoring = ['accuracy', 'precision', 'recall', 'f1']\n",
    "\n",
    "results = cross_validate(pipeline, x_scaled, y, cv=5, scoring=scoring)\n",
    "\n",
    "print(\"Accuracy:\", np.mean(results['test_accuracy']))\n",
    "print(\"Precision:\", np.mean(results['test_precision']))\n",
    "print(\"Recall:\", np.mean(results['test_recall']))\n",
    "print(\"F1-score:\", np.mean(results['test_f1']))\n"
   ]
  },
  {
   "cell_type": "markdown",
   "id": "4ddc5229-a886-4761-bc55-8ad0ffc85054",
   "metadata": {},
   "source": [
    "## Finding best predictor variables"
   ]
  },
  {
   "cell_type": "code",
   "execution_count": 168,
   "id": "f5c42283-3118-4f34-9bfc-e69975bd6e6b",
   "metadata": {},
   "outputs": [
    {
     "name": "stdout",
     "output_type": "stream",
     "text": [
      "Top 5 features: ['Area [km2]', 'Rainfall [mm year -1]', 'Factor L/A [-]', 'MPW (metric tons year -1)', 'M[E] (metric tons year -1)']\n"
     ]
    }
   ],
   "source": [
    "\n",
    "from sklearn.feature_selection import SelectKBest, f_classif\n",
    "\n",
    "# Save the column names \n",
    "feature_columns = x.columns\n",
    "\n",
    "\n",
    "# Feature selection (top 5)\n",
    "selector = SelectKBest(score_func=f_classif, k=5)\n",
    "x_selected = selector.fit_transform(x_scaled, y)\n",
    "\n",
    "# Get selected feature names using boolean mask on `feature_columns`\n",
    "selected_features = feature_columns[selector.get_support()]\n",
    "print(\"Top 5 features:\", list(selected_features))"
   ]
  },
  {
   "cell_type": "markdown",
   "id": "aa03a89d-3a2a-45e7-ac39-d3f941f4d8eb",
   "metadata": {},
   "source": [
    "## saving the model"
   ]
  },
  {
   "cell_type": "code",
   "execution_count": 173,
   "id": "4e6648a2-a9e3-4094-893e-f1b6b18a6c6a",
   "metadata": {},
   "outputs": [
    {
     "data": {
      "text/plain": [
       "['PlasticContributionClassifier.joblib']"
      ]
     },
     "execution_count": 173,
     "metadata": {},
     "output_type": "execute_result"
    }
   ],
   "source": [
    "\n",
    "import joblib\n",
    "\n",
    "joblib.dump(model,\"PlasticContributionClassifier.joblib\")"
   ]
  }
 ],
 "metadata": {
  "kernelspec": {
   "display_name": "Python 3",
   "language": "python",
   "name": "python3"
  },
  "language_info": {
   "codemirror_mode": {
    "name": "ipython",
    "version": 3
   },
   "file_extension": ".py",
   "mimetype": "text/x-python",
   "name": "python",
   "nbconvert_exporter": "python",
   "pygments_lexer": "ipython3",
   "version": "3.13.3"
  }
 },
 "nbformat": 4,
 "nbformat_minor": 5
}
